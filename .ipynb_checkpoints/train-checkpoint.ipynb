{
 "cells": [
  {
   "cell_type": "code",
   "execution_count": 15,
   "metadata": {},
   "outputs": [
    {
     "name": "stdout",
     "output_type": "stream",
     "text": [
      "WARNING:tensorflow:From /home/lab103/.conda/envs/phuc/lib/python2.7/site-packages/tensorflow/python/ops/control_flow_ops.py:3632: colocate_with (from tensorflow.python.framework.ops) is deprecated and will be removed in a future version.\n",
      "Instructions for updating:\n",
      "Colocations handled automatically by placer.\n",
      "2019-12-18 18:08:24.609318: I tensorflow/core/platform/cpu_feature_guard.cc:141] Your CPU supports instructions that this TensorFlow binary was not compiled to use: SSE4.1 SSE4.2 AVX AVX2 AVX512F FMA\n",
      "2019-12-18 18:08:24.655160: I tensorflow/core/platform/profile_utils/cpu_utils.cc:94] CPU Frequency: 2100000000 Hz\n",
      "2019-12-18 18:08:24.659505: I tensorflow/compiler/xla/service/service.cc:150] XLA service 0x560a1cde7ed0 executing computations on platform Host. Devices:\n",
      "2019-12-18 18:08:24.659573: I tensorflow/compiler/xla/service/service.cc:158]   StreamExecutor device (0): <undefined>, <undefined>\n",
      "2019-12-18 18:08:24.946468: I tensorflow/compiler/xla/service/service.cc:150] XLA service 0x560a1ce94470 executing computations on platform CUDA. Devices:\n",
      "2019-12-18 18:08:24.946551: I tensorflow/compiler/xla/service/service.cc:158]   StreamExecutor device (0): Quadro P5000, Compute Capability 6.1\n",
      "2019-12-18 18:08:24.947523: I tensorflow/core/common_runtime/gpu/gpu_device.cc:1433] Found device 0 with properties: \n",
      "name: Quadro P5000 major: 6 minor: 1 memoryClockRate(GHz): 1.7335\n",
      "pciBusID: 0000:2d:00.0\n",
      "totalMemory: 15.89GiB freeMemory: 15.18GiB\n",
      "2019-12-18 18:08:24.947586: I tensorflow/core/common_runtime/gpu/gpu_device.cc:1512] Adding visible gpu devices: 0\n",
      "2019-12-18 18:08:24.950031: I tensorflow/core/common_runtime/gpu/gpu_device.cc:984] Device interconnect StreamExecutor with strength 1 edge matrix:\n",
      "2019-12-18 18:08:24.950071: I tensorflow/core/common_runtime/gpu/gpu_device.cc:990]      0 \n",
      "2019-12-18 18:08:24.950105: I tensorflow/core/common_runtime/gpu/gpu_device.cc:1003] 0:   N \n",
      "2019-12-18 18:08:24.950787: I tensorflow/core/common_runtime/gpu/gpu_device.cc:1115] Created TensorFlow device (/job:localhost/replica:0/task:0/device:GPU:0 with 14770 MB memory) -> physical GPU (device: 0, name: Quadro P5000, pci bus id: 0000:2d:00.0, compute capability: 6.1)\n",
      "WARNING:tensorflow:From /home/lab103/Documents/semantic_segmentation/hardnet.py:28: conv2d (from tensorflow.python.layers.convolutional) is deprecated and will be removed in a future version.\n",
      "Instructions for updating:\n",
      "Use keras.layers.conv2d instead.\n",
      "WARNING:tensorflow:From /home/lab103/Documents/semantic_segmentation/hardnet.py:31: batch_normalization (from tensorflow.python.layers.normalization) is deprecated and will be removed in a future version.\n",
      "Instructions for updating:\n",
      "Use keras.layers.batch_normalization instead.\n",
      "WARNING:tensorflow:From /home/lab103/Documents/semantic_segmentation/hardnet.py:40: dropout (from tensorflow.python.layers.core) is deprecated and will be removed in a future version.\n",
      "Instructions for updating:\n",
      "Use keras.layers.dropout instead.\n",
      "WARNING:tensorflow:From /home/lab103/Documents/semantic_segmentation/hardnet.py:43: average_pooling2d (from tensorflow.python.layers.pooling) is deprecated and will be removed in a future version.\n",
      "Instructions for updating:\n",
      "Use keras.layers.average_pooling2d instead.\n",
      "This model has 4122099 trainable parameters\n",
      "WARNING:tensorflow:From /home/lab103/.conda/envs/phuc/lib/python2.7/site-packages/tensorflow/python/ops/losses/losses_impl.py:209: to_float (from tensorflow.python.ops.math_ops) is deprecated and will be removed in a future version.\n",
      "Instructions for updating:\n",
      "Use tf.cast instead.\n",
      "\n",
      "***** Begin training *****\n",
      "2019-12-18 18:08:48.353856: I tensorflow/core/kernels/data/shuffle_dataset_op.cc:101] Filling up shuffle buffer (this may take a while): 3961 of 88881\n",
      "2019-12-18 18:08:58.407926: I tensorflow/core/kernels/data/shuffle_dataset_op.cc:101] Filling up shuffle buffer (this may take a while): 7166 of 88881\n",
      "2019-12-18 18:09:08.350066: I tensorflow/core/kernels/data/shuffle_dataset_op.cc:101] Filling up shuffle buffer (this may take a while): 10249 of 88881\n",
      "2019-12-18 18:09:18.352380: I tensorflow/core/kernels/data/shuffle_dataset_op.cc:101] Filling up shuffle buffer (this may take a while): 13343 of 88881\n",
      "2019-12-18 18:09:28.350951: I tensorflow/core/kernels/data/shuffle_dataset_op.cc:101] Filling up shuffle buffer (this may take a while): 16256 of 88881\n",
      "2019-12-18 18:09:38.348529: I tensorflow/core/kernels/data/shuffle_dataset_op.cc:101] Filling up shuffle buffer (this may take a while): 19679 of 88881\n",
      "2019-12-18 18:09:48.350362: I tensorflow/core/kernels/data/shuffle_dataset_op.cc:101] Filling up shuffle buffer (this may take a while): 23014 of 88881\n",
      "2019-12-18 18:09:58.351521: I tensorflow/core/kernels/data/shuffle_dataset_op.cc:101] Filling up shuffle buffer (this may take a while): 38830 of 88881\n",
      "2019-12-18 18:10:08.349140: I tensorflow/core/kernels/data/shuffle_dataset_op.cc:101] Filling up shuffle buffer (this may take a while): 47838 of 88881\n",
      "2019-12-18 18:10:18.350199: I tensorflow/core/kernels/data/shuffle_dataset_op.cc:101] Filling up shuffle buffer (this may take a while): 50782 of 88881\n",
      "2019-12-18 18:10:28.352709: I tensorflow/core/kernels/data/shuffle_dataset_op.cc:101] Filling up shuffle buffer (this may take a while): 53469 of 88881\n",
      "2019-12-18 18:10:38.348521: I tensorflow/core/kernels/data/shuffle_dataset_op.cc:101] Filling up shuffle buffer (this may take a while): 73422 of 88881\n",
      "2019-12-18 18:10:43.150715: I tensorflow/core/kernels/data/shuffle_dataset_op.cc:140] Shuffle buffer filled.\n",
      "Time = 701.50\n",
      "step: 1, iou: 0.09, accuracy: 0.90\n",
      "Saving latest checkpoint\n",
      "^C\n",
      "Traceback (most recent call last):\n",
      "  File \"train.py\", line 91, in <module>\n",
      "    _,train_loss_summary, iou_loss_summary=sess.run([optimizer,train_loss_str, iou_loss_str])\n",
      "  File \"/home/lab103/.conda/envs/phuc/lib/python2.7/site-packages/tensorflow/python/client/session.py\", line 929, in run\n",
      "    run_metadata_ptr)\n",
      "  File \"/home/lab103/.conda/envs/phuc/lib/python2.7/site-packages/tensorflow/python/client/session.py\", line 1152, in _run\n",
      "    feed_dict_tensor, options, run_metadata)\n",
      "  File \"/home/lab103/.conda/envs/phuc/lib/python2.7/site-packages/tensorflow/python/client/session.py\", line 1328, in _do_run\n",
      "    run_metadata)\n",
      "  File \"/home/lab103/.conda/envs/phuc/lib/python2.7/site-packages/tensorflow/python/client/session.py\", line 1334, in _do_call\n",
      "    return fn(*args)\n",
      "  File \"/home/lab103/.conda/envs/phuc/lib/python2.7/site-packages/tensorflow/python/client/session.py\", line 1319, in _run_fn\n",
      "    options, feed_dict, fetch_list, target_list, run_metadata)\n",
      "  File \"/home/lab103/.conda/envs/phuc/lib/python2.7/site-packages/tensorflow/python/client/session.py\", line 1407, in _call_tf_sessionrun\n",
      "    run_metadata)\n",
      "KeyboardInterrupt\n"
     ]
    }
   ],
   "source": [
    "!python train.py --num_epochs 100 --crop_height 512 --crop_width 1024 --batch_size 8 --continue_training True"
   ]
  },
  {
   "cell_type": "code",
   "execution_count": 56,
   "metadata": {},
   "outputs": [
    {
     "name": "stdout",
     "output_type": "stream",
     "text": [
      "1.0\n"
     ]
    }
   ],
   "source": [
    "a = float(5/3)\n",
    "print(a)"
   ]
  }
 ],
 "metadata": {
  "kernelspec": {
   "display_name": "Python [conda env:.conda-phuc] *",
   "language": "python",
   "name": "conda-env-.conda-phuc-py"
  },
  "language_info": {
   "codemirror_mode": {
    "name": "ipython",
    "version": 2
   },
   "file_extension": ".py",
   "mimetype": "text/x-python",
   "name": "python",
   "nbconvert_exporter": "python",
   "pygments_lexer": "ipython2",
   "version": "2.7.16"
  }
 },
 "nbformat": 4,
 "nbformat_minor": 2
}
