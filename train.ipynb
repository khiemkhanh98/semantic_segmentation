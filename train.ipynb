{
 "cells": [
  {
   "cell_type": "code",
   "execution_count": null,
   "metadata": {},
   "outputs": [
    {
     "name": "stdout",
     "output_type": "stream",
     "text": [
      "WARNING:tensorflow:From /home/lab103/.conda/envs/phuc/lib/python2.7/site-packages/tensorflow/python/ops/control_flow_ops.py:3632: colocate_with (from tensorflow.python.framework.ops) is deprecated and will be removed in a future version.\n",
      "Instructions for updating:\n",
      "Colocations handled automatically by placer.\n",
      "2019-12-19 11:16:25.119481: I tensorflow/core/platform/cpu_feature_guard.cc:141] Your CPU supports instructions that this TensorFlow binary was not compiled to use: SSE4.1 SSE4.2 AVX AVX2 AVX512F FMA\n",
      "2019-12-19 11:16:25.261102: I tensorflow/core/platform/profile_utils/cpu_utils.cc:94] CPU Frequency: 2100000000 Hz\n",
      "2019-12-19 11:16:25.269872: I tensorflow/compiler/xla/service/service.cc:150] XLA service 0x55eab4c09260 executing computations on platform Host. Devices:\n",
      "2019-12-19 11:16:25.270029: I tensorflow/compiler/xla/service/service.cc:158]   StreamExecutor device (0): <undefined>, <undefined>\n",
      "2019-12-19 11:16:25.777160: I tensorflow/compiler/xla/service/service.cc:150] XLA service 0x55eab4cb5830 executing computations on platform CUDA. Devices:\n",
      "2019-12-19 11:16:25.777261: I tensorflow/compiler/xla/service/service.cc:158]   StreamExecutor device (0): Quadro P5000, Compute Capability 6.1\n",
      "2019-12-19 11:16:25.778324: I tensorflow/core/common_runtime/gpu/gpu_device.cc:1433] Found device 0 with properties: \n",
      "name: Quadro P5000 major: 6 minor: 1 memoryClockRate(GHz): 1.7335\n",
      "pciBusID: 0000:2d:00.0\n",
      "totalMemory: 15.89GiB freeMemory: 15.23GiB\n",
      "2019-12-19 11:16:25.778384: I tensorflow/core/common_runtime/gpu/gpu_device.cc:1512] Adding visible gpu devices: 0\n",
      "2019-12-19 11:16:25.798318: I tensorflow/core/common_runtime/gpu/gpu_device.cc:984] Device interconnect StreamExecutor with strength 1 edge matrix:\n",
      "2019-12-19 11:16:25.798382: I tensorflow/core/common_runtime/gpu/gpu_device.cc:990]      0 \n",
      "2019-12-19 11:16:25.798404: I tensorflow/core/common_runtime/gpu/gpu_device.cc:1003] 0:   N \n",
      "2019-12-19 11:16:25.799173: I tensorflow/core/common_runtime/gpu/gpu_device.cc:1115] Created TensorFlow device (/job:localhost/replica:0/task:0/device:GPU:0 with 14814 MB memory) -> physical GPU (device: 0, name: Quadro P5000, pci bus id: 0000:2d:00.0, compute capability: 6.1)\n",
      "WARNING:tensorflow:From /home/lab103/Documents/semantic_segmentation/hardnet.py:28: conv2d (from tensorflow.python.layers.convolutional) is deprecated and will be removed in a future version.\n",
      "Instructions for updating:\n",
      "Use keras.layers.conv2d instead.\n",
      "WARNING:tensorflow:From /home/lab103/Documents/semantic_segmentation/hardnet.py:31: batch_normalization (from tensorflow.python.layers.normalization) is deprecated and will be removed in a future version.\n",
      "Instructions for updating:\n",
      "Use keras.layers.batch_normalization instead.\n",
      "WARNING:tensorflow:From /home/lab103/Documents/semantic_segmentation/hardnet.py:40: dropout (from tensorflow.python.layers.core) is deprecated and will be removed in a future version.\n",
      "Instructions for updating:\n",
      "Use keras.layers.dropout instead.\n",
      "WARNING:tensorflow:From /home/lab103/Documents/semantic_segmentation/hardnet.py:43: average_pooling2d (from tensorflow.python.layers.pooling) is deprecated and will be removed in a future version.\n",
      "Instructions for updating:\n",
      "Use keras.layers.average_pooling2d instead.\n",
      "This model has 4122099 trainable parameters\n",
      "WARNING:tensorflow:From /home/lab103/.conda/envs/phuc/lib/python2.7/site-packages/tensorflow/python/ops/losses/losses_impl.py:209: to_float (from tensorflow.python.ops.math_ops) is deprecated and will be removed in a future version.\n",
      "Instructions for updating:\n",
      "Use tf.cast instead.\n",
      "\n",
      "***** Begin training *****\n",
      "2019-12-19 11:16:57.206607: I tensorflow/core/kernels/data/shuffle_dataset_op.cc:101] Filling up shuffle buffer (this may take a while): 3306 of 10000\n",
      "2019-12-19 11:17:07.206415: I tensorflow/core/kernels/data/shuffle_dataset_op.cc:101] Filling up shuffle buffer (this may take a while): 6432 of 10000\n",
      "2019-12-19 11:17:17.204881: I tensorflow/core/kernels/data/shuffle_dataset_op.cc:101] Filling up shuffle buffer (this may take a while): 9961 of 10000\n",
      "2019-12-19 11:17:17.305390: I tensorflow/core/kernels/data/shuffle_dataset_op.cc:140] Shuffle buffer filled.\n",
      "Time = 485.99\n",
      "step: 1, iou: 0.07, accuracy: 0.92\n",
      "Saving latest checkpoint\n",
      "Time = 446.21\n",
      "step: 2, iou: 0.13, accuracy: 0.83\n",
      "Saving latest checkpoint\n",
      "Time = 457.94\n"
     ]
    }
   ],
   "source": [
    "!python train.py --num_epochs 1000 --crop_height 512 --crop_width 1024 --batch_size 6 --continue_training False"
   ]
  },
  {
   "cell_type": "code",
   "execution_count": 56,
   "metadata": {},
   "outputs": [
    {
     "name": "stdout",
     "output_type": "stream",
     "text": [
      "1.0\n"
     ]
    }
   ],
   "source": [
    "a = float(5/3)\n",
    "print(a)"
   ]
  }
 ],
 "metadata": {
  "kernelspec": {
   "display_name": "Python [conda env:.conda-phuc] *",
   "language": "python",
   "name": "conda-env-.conda-phuc-py"
  },
  "language_info": {
   "codemirror_mode": {
    "name": "ipython",
    "version": 2
   },
   "file_extension": ".py",
   "mimetype": "text/x-python",
   "name": "python",
   "nbconvert_exporter": "python",
   "pygments_lexer": "ipython2",
   "version": "2.7.16"
  }
 },
 "nbformat": 4,
 "nbformat_minor": 2
}
